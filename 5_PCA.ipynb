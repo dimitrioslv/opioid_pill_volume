{
 "cells": [
  {
   "cell_type": "markdown",
   "id": "ddebd4d8-14f9-4abf-bd9d-afddb9f9b56c",
   "metadata": {},
   "source": [
    "## Further Model Tuning with PCA\n",
    "\n",
    "Because of the focus on model performance and the inclusion of many engineered features in the base dataset, I believed it to be beneficial to attempt Princpal Component Analysis on the variables in order to find strong linear correlation with the target and minimize colinearity as much as possible."
   ]
  },
  {
   "cell_type": "markdown",
   "id": "c3287e32-eee6-4ee1-aa77-15a5538a605c",
   "metadata": {},
   "source": [
    "#### Imports"
   ]
  },
  {
   "cell_type": "code",
   "execution_count": 3,
   "id": "b0bae5e1-5a8a-4e09-8753-4332656127cb",
   "metadata": {},
   "outputs": [],
   "source": [
    "import pandas as pd\n",
    "import numpy as np\n",
    "import matplotlib.pyplot as plt\n",
    "import seaborn as sns\n",
    "from sklearn.linear_model import LinearRegression\n",
    "from sklearn.model_selection import train_test_split, cross_val_score, KFold, GridSearchCV\n",
    "from sklearn.preprocessing import StandardScaler, PolynomialFeatures\n",
    "from sklearn.decomposition import PCA\n",
    "from sklearn.pipeline import Pipeline\n",
    "from sklearn.compose import ColumnTransformer\n",
    "from sklearn.ensemble import GradientBoostingRegressor\n",
    "\n",
    "pd.set_option('display.max_rows', None)"
   ]
  },
  {
   "cell_type": "code",
   "execution_count": 4,
   "id": "e482f7c4-8318-4986-bfbd-dd7311380da9",
   "metadata": {},
   "outputs": [
    {
     "data": {
      "text/plain": [
       "(26955, 142)"
      ]
     },
     "execution_count": 4,
     "metadata": {},
     "output_type": "execute_result"
    }
   ],
   "source": [
    "df = pd.read_csv('./data/working_data.csv')\n",
    "df.shape"
   ]
  },
  {
   "cell_type": "markdown",
   "id": "3d923b68-4417-453a-b61c-82e3cc53813b",
   "metadata": {},
   "source": [
    "#### Dropping Object types and One-Hot coded variables"
   ]
  },
  {
   "cell_type": "code",
   "execution_count": 5,
   "id": "13e26903-08fc-4c6d-93c6-b65d42c1bf23",
   "metadata": {},
   "outputs": [],
   "source": [
    "# dropping objects and itentyfier variables\n",
    "df.drop(df.select_dtypes(exclude='number').columns.tolist(), axis=1, inplace=True)\n",
    "\n",
    "df.drop(['year', 'fips_code'], axis=1, inplace=True)"
   ]
  },
  {
   "cell_type": "code",
   "execution_count": 6,
   "id": "486fe616-37cc-4dc9-8633-cf2306ae4257",
   "metadata": {},
   "outputs": [],
   "source": [
    "# dropping all one-hot coded variables\n",
    "columns = df.columns.tolist()\n",
    "mean_less_one = [col for col in columns if df[col].mean()<1]\n",
    "binary = [col for col in mean_less_one if df[col].dtype == 'int64']\n",
    "df.drop(binary, axis=1, inplace=True)"
   ]
  },
  {
   "cell_type": "markdown",
   "id": "003bb0c5-354d-427f-9322-79e2e3651505",
   "metadata": {},
   "source": [
    "#### Transforming "
   ]
  },
  {
   "cell_type": "code",
   "execution_count": 7,
   "id": "b8e78659-13a7-49a5-9c4d-23051f1cde0a",
   "metadata": {},
   "outputs": [
    {
     "name": "stdout",
     "output_type": "stream",
     "text": [
      "There are NOW 128 features: \n",
      "\n",
      "['num_nurses', 'num_home_health_agents', 'num_hospices', 'pop_est', 'vet_pop_est', 'num_qualify_medicare', 'unemploy_rate', 'num_docs_male', 'num_docs_fem', 'num_docs_under35', 'num_docs_35-44', 'num_docs_45-54', 'num_docs_55-64', 'num_docs_65-74', 'num_docs_75above', 'num_specialists_under35', 'num_specialists_35-44', 'num_specialists_45-54', 'num_specialists_55-64', 'num_specialists_65-74', 'num_specialists_75above', 'num_dents_under35', 'num_dents_35-44', 'num_dents_45-54', 'num_dents_55-64', 'num_dents_65above', 'num_hos_beds', 'num_short_term_gen_beds', 'num_short_term_nongen_beds', 'num_long_term_beds', 'num_nursehome_beds', 'num_inpatient_days', 'num_veteran_outpat_vists', 'per_cap_medicare_cost', 'tot_male_pop', 'tot_fem_pop', 'tot_white_male_pop', 'tot_white_fem_pop', 'tot_black_male_pop', 'tot_black_fem_pop', 'tot_asian_male_pop', 'tot_asian_fem_pop', 'tot_hispanic_male_pop', 'tot_hispanic_fem_pop', 'num_has_medicare', 'num_deaths_any', 'per_cap_income', 'med_househld_income', 'prcnt_poverty', 'prcnt_under65_no_insurance', 'prcnt_25up_college', 'prcnt_manuf_employee', 'num_qualify_medicaid_medicare', 'num_males_20-24', 'num_fem_20-24', 'num_males_25-29', 'num_fem_25-29', 'num_male_30-34', 'num_fem_30-34', 'num_male_35-44', 'num_fem_35-44', 'num_male_45-54', 'num_fem_45-54', 'num_male_55-59', 'num_fem_55-59', 'num_male_60-64', 'num_fem_60-64', 'num_male_65-74', 'num_fem_65-74', 'num_male_75-84', 'num_fem_75-84', 'num_male_85up', 'num_fem_85up', 'med_age', 'n_black', 'n_asian', 'n_hisp', 'tot_land_area', 'tot_outpatient_visits', 'ord_deaths', 'cancer_deaths', 'ship_count', 'dosage_unit', 'op_pc', 'ip_pc', 'pct_men', 'pct_white', 'pct_black', 'pct_asian', 'pct_other', 'pct_hisp', 'pct_medicare', 'arf_cdr', 'pop_density', 'pct_duals', 'pct_25t34', 'pct_35t44', 'pct_45t54', 'pct_55t64', 'pct_65t74', 'pct_75t84', 'pct_85plus', 'pct_vets', 'np_pc', 'md_lt35_pc', 'md_35t44_pc', 'md_45t54_pc', 'md_55t64_pc', 'md_65t74_pc', 'md_75plus_pc', 'spec_lt35_pc', 'spec_35t44_pc', 'spec_45t54_pc', 'spec_55t64_pc', 'spec_65t74_pc', 'spec_75plus_pc', 'dentists_lt35_pc', 'dentists_35t44_pc', 'dentists_45t54_pc', 'dentists_55t64_pc', 'dentists_65plus_pc', 'md_pc', 'spec_pc', 'pct_25t44', 'pct_45t64', 'pct_65plus', 'ord_cdr', 'cancer_cdr']\n"
     ]
    }
   ],
   "source": [
    "# creating a list of features to use\n",
    "features_list = df.drop(['pcpv'], axis=1).columns.tolist()\n",
    "print(f'There are NOW {len(features_list)} features:','\\n')\n",
    "print(features_list)"
   ]
  },
  {
   "cell_type": "code",
   "execution_count": 8,
   "id": "0e178559-b09f-4b7c-b51f-d1fddacb7605",
   "metadata": {},
   "outputs": [],
   "source": [
    "# makeing a pipeline to transform data of these features\n",
    "feature_pipeline = Pipeline(steps=[\n",
    "    ('scale', StandardScaler())\n",
    "])"
   ]
  },
  {
   "cell_type": "code",
   "execution_count": 9,
   "id": "7d03e671-ac7d-41b3-9447-f8fba59077c7",
   "metadata": {},
   "outputs": [],
   "source": [
    "# ColumnTransformer applies this pipline to the features in the feature list\n",
    "feature_processor = ColumnTransformer(transformers=[\n",
    "    ('features', feature_pipeline, features_list)\n",
    "])"
   ]
  },
  {
   "cell_type": "markdown",
   "id": "3aa8707a-cbdd-44fa-8235-6f710dadd4ce",
   "metadata": {},
   "source": [
    "#### Making X and y"
   ]
  },
  {
   "cell_type": "code",
   "execution_count": 10,
   "id": "5824c191-993d-4a3d-9f60-d142eabf2c99",
   "metadata": {},
   "outputs": [],
   "source": [
    "X = df.drop('pcpv', axis=1)\n",
    "y = df['pcpv']"
   ]
  },
  {
   "cell_type": "code",
   "execution_count": 11,
   "id": "fa385b7a-a66b-4c39-9072-864da06e63f1",
   "metadata": {},
   "outputs": [
    {
     "data": {
      "text/plain": [
       "((26955, 128), (26955,))"
      ]
     },
     "execution_count": 11,
     "metadata": {},
     "output_type": "execute_result"
    }
   ],
   "source": [
    "X.shape, y.shape"
   ]
  },
  {
   "cell_type": "code",
   "execution_count": 12,
   "id": "988e5895-0939-4583-8b31-39de9472a4f7",
   "metadata": {},
   "outputs": [],
   "source": [
    "X_train, X_test, y_train, y_test = train_test_split(X, y, test_size=.2, random_state = 42)"
   ]
  },
  {
   "cell_type": "markdown",
   "id": "5f08aa3c-ffb8-48a0-be3d-454498c94dbe",
   "metadata": {
    "jp-MarkdownHeadingCollapsed": true,
    "tags": []
   },
   "source": [
    "#### Polynominal Features\n",
    "\n",
    "- **NOTE** this was scrapped due to the technical issues it caused the local machine running the coputations."
   ]
  },
  {
   "cell_type": "code",
   "execution_count": 13,
   "id": "01fbb7c4-d466-4602-9c71-e59dc533197d",
   "metadata": {},
   "outputs": [],
   "source": [
    "poly = PolynomialFeatures(include_bias = False)"
   ]
  },
  {
   "cell_type": "code",
   "execution_count": 14,
   "id": "964e37d8-2928-4591-9d23-c7b08d02bb35",
   "metadata": {},
   "outputs": [],
   "source": [
    "X_train_poly = poly.fit_transform(X_train)\n",
    "X_test_poly = poly.transform(X_test)"
   ]
  },
  {
   "cell_type": "code",
   "execution_count": 15,
   "id": "eebc77ef-ab7e-4af6-b108-f280824ce935",
   "metadata": {},
   "outputs": [
    {
     "data": {
      "text/plain": [
       "((21564, 8384), (5391, 8384))"
      ]
     },
     "execution_count": 15,
     "metadata": {},
     "output_type": "execute_result"
    }
   ],
   "source": [
    "X_train_poly.shape, X_test_poly.shape"
   ]
  },
  {
   "cell_type": "markdown",
   "id": "5041d033-c214-4b0e-890b-163dcc3207e2",
   "metadata": {},
   "source": [
    "#### PCA"
   ]
  },
  {
   "cell_type": "code",
   "execution_count": 16,
   "id": "5ffd7a6f-5e1a-41e2-8641-ca1486acc568",
   "metadata": {},
   "outputs": [],
   "source": [
    "# instanciate the model and PCA\n",
    "gb = GradientBoostingRegressor()\n",
    "pca = PCA()\n",
    "\n",
    "# make a pike that processes the features, applies PCA,\n",
    "# and runs the features through the model\n",
    "gb_pipe = Pipeline(steps=[\n",
    "    ('preprocesser', feature_processor),\n",
    "    ('pca', pca),\n",
    "    ('model', gb)\n",
    "])"
   ]
  },
  {
   "cell_type": "code",
   "execution_count": 18,
   "id": "a1a793d0-fead-41aa-8adf-f9a4aa97c787",
   "metadata": {},
   "outputs": [
    {
     "name": "stdout",
     "output_type": "stream",
     "text": [
      "Best parameter (CV score=0.859):\n",
      "{'model__max_depth': 7, 'model__n_estimators': 250, 'model__random_state': 42}\n"
     ]
    }
   ],
   "source": [
    "# create a parameter grid to search through for \n",
    "# best model parameters\n",
    "gbr_params = {\n",
    "    'model__max_depth': [3, 5, 7],\n",
    "    'model__n_estimators': [150, 200, 250],\n",
    "    'model__random_state': [42]\n",
    "}\n",
    "\n",
    "search = GridSearchCV(gb_pipe, gbr_params, n_jobs=-1)\n",
    "search.fit(X_train, y_train)\n",
    "print(\"Best parameter (CV score=%0.3f):\" % search.best_score_)\n",
    "print(search.best_params_)"
   ]
  },
  {
   "cell_type": "code",
   "execution_count": 19,
   "id": "9c5a5c1a-0908-4e9e-955b-250bde5fadc6",
   "metadata": {},
   "outputs": [],
   "source": [
    "# instantiate another model with those best params\n",
    "gbr_best_params = GradientBoostingRegressor(max_depth=7, \n",
    "                                            n_estimators=250, \n",
    "                                            random_state=42) "
   ]
  },
  {
   "cell_type": "code",
   "execution_count": 20,
   "id": "a78f94f3-2473-4cb8-80b3-6b94f8ef38c2",
   "metadata": {},
   "outputs": [
    {
     "data": {
      "text/plain": [
       "PCA()"
      ]
     },
     "execution_count": 20,
     "metadata": {},
     "output_type": "execute_result"
    }
   ],
   "source": [
    "pca.fit(feature_processor.fit_transform(X_train))"
   ]
  },
  {
   "cell_type": "code",
   "execution_count": 21,
   "id": "83acc146-e314-4f8c-97ee-758d5f665fdb",
   "metadata": {},
   "outputs": [
    {
     "data": {
      "image/png": "[encoded data removed]",
      "text/plain": [
       "<Figure size 576x432 with 1 Axes>"
      ]
     },
     "metadata": {
      "needs_background": "light"
     },
     "output_type": "display_data"
    }
   ],
   "source": [
    "# graph the explained variance of each principal component\n",
    "fig, ax = plt.subplots(figsize=(8,6))\n",
    "ax.plot(range(1,129), pca.explained_variance_ratio_, lw=2)\n",
    "ax.scatter(range(1,129), pca.explained_variance_ratio_, s=100)\n",
    "ax.set_title('explained variance of components')\n",
    "ax.set_xlabel('principal component')\n",
    "ax.set_ylabel('explained variance');"
   ]
  },
  {
   "cell_type": "code",
   "execution_count": 22,
   "id": "78e24a08-b088-4a2f-aa9b-1da727d6cba4",
   "metadata": {},
   "outputs": [
    {
     "data": {
      "text/plain": [
       "0.7242826957755718"
      ]
     },
     "execution_count": 22,
     "metadata": {},
     "output_type": "execute_result"
    }
   ],
   "source": [
    "# find the r2 (explained variance) of the first 5 principle components\n",
    "sum(pca.explained_variance_ratio_[:5])"
   ]
  },
  {
   "cell_type": "code",
   "execution_count": 23,
   "id": "9b54c841-4b39-4d7a-878e-797a3727f5b2",
   "metadata": {},
   "outputs": [
    {
     "data": {
      "text/html": [
       "<div>\n",
       "<style scoped>\n",
       "    .dataframe tbody tr th:only-of-type {\n",
       "        vertical-align: middle;\n",
       "    }\n",
       "\n",
       "    .dataframe tbody tr th {\n",
       "        vertical-align: top;\n",
       "    }\n",
       "\n",
       "    .dataframe thead th {\n",
       "        text-align: right;\n",
       "    }\n",
       "</style>\n",
       "<table border=\"1\" class=\"dataframe\">\n",
       "  <thead>\n",
       "    <tr style=\"text-align: right;\">\n",
       "      <th></th>\n",
       "      <th>pr_comp_0</th>\n",
       "      <th>pr_comp_1</th>\n",
       "      <th>pr_comp_2</th>\n",
       "      <th>pr_comp_3</th>\n",
       "      <th>pr_comp_4</th>\n",
       "      <th>pr_comp_5</th>\n",
       "      <th>pr_comp_6</th>\n",
       "      <th>pr_comp_7</th>\n",
       "      <th>pr_comp_8</th>\n",
       "      <th>pr_comp_9</th>\n",
       "      <th>...</th>\n",
       "      <th>pr_comp_118</th>\n",
       "      <th>pr_comp_119</th>\n",
       "      <th>pr_comp_120</th>\n",
       "      <th>pr_comp_121</th>\n",
       "      <th>pr_comp_122</th>\n",
       "      <th>pr_comp_123</th>\n",
       "      <th>pr_comp_124</th>\n",
       "      <th>pr_comp_125</th>\n",
       "      <th>pr_comp_126</th>\n",
       "      <th>pr_comp_127</th>\n",
       "    </tr>\n",
       "  </thead>\n",
       "  <tbody>\n",
       "    <tr>\n",
       "      <th>0</th>\n",
       "      <td>4.489411</td>\n",
       "      <td>2.245589</td>\n",
       "      <td>0.519719</td>\n",
       "      <td>4.706906</td>\n",
       "      <td>-0.069321</td>\n",
       "      <td>-0.067994</td>\n",
       "      <td>-1.983315</td>\n",
       "      <td>-0.347133</td>\n",
       "      <td>-1.441217</td>\n",
       "      <td>-0.495367</td>\n",
       "      <td>...</td>\n",
       "      <td>0.004297</td>\n",
       "      <td>0.004281</td>\n",
       "      <td>0.000470</td>\n",
       "      <td>-0.000080</td>\n",
       "      <td>0.004159</td>\n",
       "      <td>0.000293</td>\n",
       "      <td>1.430879e-15</td>\n",
       "      <td>2.025620e-15</td>\n",
       "      <td>9.139092e-16</td>\n",
       "      <td>-3.026657e-16</td>\n",
       "    </tr>\n",
       "    <tr>\n",
       "      <th>1</th>\n",
       "      <td>-1.742206</td>\n",
       "      <td>0.880160</td>\n",
       "      <td>2.757237</td>\n",
       "      <td>1.624242</td>\n",
       "      <td>-1.293919</td>\n",
       "      <td>-0.263109</td>\n",
       "      <td>-0.453939</td>\n",
       "      <td>-1.127777</td>\n",
       "      <td>-1.338731</td>\n",
       "      <td>0.353491</td>\n",
       "      <td>...</td>\n",
       "      <td>0.000050</td>\n",
       "      <td>-0.002154</td>\n",
       "      <td>-0.000091</td>\n",
       "      <td>0.000643</td>\n",
       "      <td>-0.000048</td>\n",
       "      <td>0.000043</td>\n",
       "      <td>2.079972e-15</td>\n",
       "      <td>-9.405359e-16</td>\n",
       "      <td>-5.666735e-16</td>\n",
       "      <td>1.322638e-15</td>\n",
       "    </tr>\n",
       "    <tr>\n",
       "      <th>2</th>\n",
       "      <td>22.291113</td>\n",
       "      <td>5.207223</td>\n",
       "      <td>-0.073782</td>\n",
       "      <td>-4.555249</td>\n",
       "      <td>2.116003</td>\n",
       "      <td>4.561889</td>\n",
       "      <td>0.183529</td>\n",
       "      <td>0.862932</td>\n",
       "      <td>-3.377929</td>\n",
       "      <td>1.582900</td>\n",
       "      <td>...</td>\n",
       "      <td>0.001395</td>\n",
       "      <td>0.014860</td>\n",
       "      <td>0.002615</td>\n",
       "      <td>0.000326</td>\n",
       "      <td>-0.001408</td>\n",
       "      <td>0.000399</td>\n",
       "      <td>-2.520967e-15</td>\n",
       "      <td>-3.026868e-15</td>\n",
       "      <td>2.132211e-15</td>\n",
       "      <td>-3.249330e-15</td>\n",
       "    </tr>\n",
       "    <tr>\n",
       "      <th>3</th>\n",
       "      <td>0.763224</td>\n",
       "      <td>-0.270487</td>\n",
       "      <td>-4.411939</td>\n",
       "      <td>0.393369</td>\n",
       "      <td>0.859406</td>\n",
       "      <td>-0.104322</td>\n",
       "      <td>-1.007155</td>\n",
       "      <td>-0.012768</td>\n",
       "      <td>-1.366362</td>\n",
       "      <td>-0.729551</td>\n",
       "      <td>...</td>\n",
       "      <td>-0.001109</td>\n",
       "      <td>0.006938</td>\n",
       "      <td>0.000206</td>\n",
       "      <td>-0.000137</td>\n",
       "      <td>-0.000115</td>\n",
       "      <td>0.000011</td>\n",
       "      <td>-1.924932e-16</td>\n",
       "      <td>8.753049e-17</td>\n",
       "      <td>-8.787962e-16</td>\n",
       "      <td>-1.075741e-15</td>\n",
       "    </tr>\n",
       "    <tr>\n",
       "      <th>4</th>\n",
       "      <td>-2.256100</td>\n",
       "      <td>-0.521590</td>\n",
       "      <td>-3.472364</td>\n",
       "      <td>-0.177844</td>\n",
       "      <td>0.717064</td>\n",
       "      <td>-0.435285</td>\n",
       "      <td>2.790334</td>\n",
       "      <td>1.679138</td>\n",
       "      <td>1.441469</td>\n",
       "      <td>0.397381</td>\n",
       "      <td>...</td>\n",
       "      <td>0.000408</td>\n",
       "      <td>0.000285</td>\n",
       "      <td>0.000447</td>\n",
       "      <td>-0.000620</td>\n",
       "      <td>-0.000100</td>\n",
       "      <td>0.000097</td>\n",
       "      <td>-1.197516e-15</td>\n",
       "      <td>-2.539517e-15</td>\n",
       "      <td>6.193168e-16</td>\n",
       "      <td>-5.661700e-16</td>\n",
       "    </tr>\n",
       "  </tbody>\n",
       "</table>\n",
       "<p>5 rows × 128 columns</p>\n",
       "</div>"
      ],
      "text/plain": [
       "   pr_comp_0  pr_comp_1  pr_comp_2  pr_comp_3  pr_comp_4  pr_comp_5  \\\n",
       "0   4.489411   2.245589   0.519719   4.706906  -0.069321  -0.067994   \n",
       "1  -1.742206   0.880160   2.757237   1.624242  -1.293919  -0.263109   \n",
       "2  22.291113   5.207223  -0.073782  -4.555249   2.116003   4.561889   \n",
       "3   0.763224  -0.270487  -4.411939   0.393369   0.859406  -0.104322   \n",
       "4  -2.256100  -0.521590  -3.472364  -0.177844   0.717064  -0.435285   \n",
       "\n",
       "   pr_comp_6  pr_comp_7  pr_comp_8  pr_comp_9  ...  pr_comp_118  pr_comp_119  \\\n",
       "0  -1.983315  -0.347133  -1.441217  -0.495367  ...     0.004297     0.004281   \n",
       "1  -0.453939  -1.127777  -1.338731   0.353491  ...     0.000050    -0.002154   \n",
       "2   0.183529   0.862932  -3.377929   1.582900  ...     0.001395     0.014860   \n",
       "3  -1.007155  -0.012768  -1.366362  -0.729551  ...    -0.001109     0.006938   \n",
       "4   2.790334   1.679138   1.441469   0.397381  ...     0.000408     0.000285   \n",
       "\n",
       "   pr_comp_120  pr_comp_121  pr_comp_122  pr_comp_123   pr_comp_124  \\\n",
       "0     0.000470    -0.000080     0.004159     0.000293  1.430879e-15   \n",
       "1    -0.000091     0.000643    -0.000048     0.000043  2.079972e-15   \n",
       "2     0.002615     0.000326    -0.001408     0.000399 -2.520967e-15   \n",
       "3     0.000206    -0.000137    -0.000115     0.000011 -1.924932e-16   \n",
       "4     0.000447    -0.000620    -0.000100     0.000097 -1.197516e-15   \n",
       "\n",
       "    pr_comp_125   pr_comp_126   pr_comp_127  \n",
       "0  2.025620e-15  9.139092e-16 -3.026657e-16  \n",
       "1 -9.405359e-16 -5.666735e-16  1.322638e-15  \n",
       "2 -3.026868e-15  2.132211e-15 -3.249330e-15  \n",
       "3  8.753049e-17 -8.787962e-16 -1.075741e-15  \n",
       "4 -2.539517e-15  6.193168e-16 -5.661700e-16  \n",
       "\n",
       "[5 rows x 128 columns]"
      ]
     },
     "execution_count": 23,
     "metadata": {},
     "output_type": "execute_result"
    }
   ],
   "source": [
    "# create a dataframe for all those components and their weights\n",
    "pca_df = pd.DataFrame(pca.transform(feature_processor.fit_transform(X_train)),\n",
    "                      columns=['pr_comp_' + str(i) for i in range(feature_processor.fit_transform(X_train).shape[1])])\n",
    "pca_df.head()"
   ]
  },
  {
   "cell_type": "code",
   "execution_count": 24,
   "id": "a78e585d-9adc-4845-9c81-5c8028ec9eb8",
   "metadata": {},
   "outputs": [],
   "source": [
    "pca_df['pcpv'] = list(y_train)"
   ]
  },
  {
   "cell_type": "code",
   "execution_count": 25,
   "id": "1aa4c1e6-4ced-4dc9-8348-bca79a94739f",
   "metadata": {},
   "outputs": [
    {
     "data": {
      "text/plain": [
       "(0.73, '+-', 0.02)"
      ]
     },
     "execution_count": 25,
     "metadata": {},
     "output_type": "execute_result"
    }
   ],
   "source": [
    "# evaluate the principle components with the best params model\n",
    "scores = cross_val_score(gbr_best_params,\n",
    "                         pca_df.iloc[:, :20],\n",
    "                         pca_df.iloc[:, -1],\n",
    "                         cv=KFold(n_splits=5,\n",
    "                                  shuffle=True,\n",
    "                                  random_state=73))\n",
    "\n",
    "round(scores.mean(), 2), '+-', round(2 * scores.std(), 2)"
   ]
  },
  {
   "cell_type": "markdown",
   "id": "3dc5df45-94ab-44aa-9b0a-784107462281",
   "metadata": {
    "tags": []
   },
   "source": [
    "#### Conclusionn\n",
    "\n",
    "- Was able to perform PCA on the large amount of variables included in the dataset but unfortunetly was unable to interpret which variables explained the most variance in the model\n",
    "- Evaluated model performed better than previous Gradient Boosted decision tree model with manually selected features."
   ]
  },
  {
   "cell_type": "code",
   "execution_count": 26,
   "id": "e1c48f67-9564-45c4-99aa-fffe98921286",
   "metadata": {},
   "outputs": [],
   "source": [
    "# combine coeff values and description\n",
    "# based off of GridSearches best estimates\n",
    "# importance_val = search.best_estimator_.named_steps.model.feature_importances_\n",
    "# importance_df = pd.DataFrame({'features': np.array(features_list), 'importance_val': np.array(importance_val)}, columns=['features', 'importance'])\n",
    "# importance_df.head()\n",
    "# importance_df.sort_values(by = 'importance_val', ascending  = False)[:10]\n"
   ]
  },
  {
   "cell_type": "code",
   "execution_count": null,
   "id": "e353238d-4c85-4824-9e9a-b7eba006a504",
   "metadata": {},
   "outputs": [],
   "source": []
  }
 ],
 "metadata": {
  "kernelspec": {
   "display_name": "Python 3 (ipykernel)",
   "language": "python",
   "name": "python3"
  },
  "language_info": {
   "codemirror_mode": {
    "name": "ipython",
    "version": 3
   },
   "file_extension": ".py",
   "mimetype": "text/x-python",
   "name": "python",
   "nbconvert_exporter": "python",
   "pygments_lexer": "ipython3",
   "version": "3.8.8"
  }
 },
 "nbformat": 4,
 "nbformat_minor": 5
}
